{
 "cells": [
  {
   "cell_type": "markdown",
   "metadata": {},
   "source": [
    "## Load Modules"
   ]
  },
  {
   "cell_type": "code",
   "execution_count": 1,
   "metadata": {},
   "outputs": [],
   "source": [
    "import word2vecmodel\n",
    "import preprocess\n",
    "import engine\n",
    "import visualize\n",
    "import pandas as pd"
   ]
  },
  {
   "cell_type": "markdown",
   "metadata": {
    "id": "praRK9C0mTZJ"
   },
   "source": [
    "## 태그 임베딩 모델 불러오기"
   ]
  },
  {
   "cell_type": "code",
   "execution_count": 90,
   "metadata": {
    "id": "ai2KgwbTNN7u"
   },
   "outputs": [],
   "source": [
    "enc = engine.load(\"save\")"
   ]
  },
  {
   "cell_type": "markdown",
   "metadata": {
    "id": "16W_RwWAmKRZ"
   },
   "source": [
    "# 변수 초기화"
   ]
  },
  {
   "cell_type": "code",
   "execution_count": 106,
   "metadata": {
    "id": "WHveT7vjmFak"
   },
   "outputs": [],
   "source": [
    "top_k = 60\n",
    "jobkeywordlist = preprocess.getJobList()"
   ]
  },
  {
   "cell_type": "markdown",
   "metadata": {},
   "source": [
    "## 채용공고 랜덤 추출"
   ]
  },
  {
   "cell_type": "code",
   "execution_count": 107,
   "metadata": {},
   "outputs": [],
   "source": [
    "samplelist = jobkeywordlist.sample(n=top_k)"
   ]
  },
  {
   "cell_type": "markdown",
   "metadata": {
    "id": "VnpNuRsAqBnS"
   },
   "source": [
    "## 테스트 with GUI"
   ]
  },
  {
   "cell_type": "code",
   "execution_count": 36,
   "metadata": {},
   "outputs": [],
   "source": [
    "import ipywidgets as widgets\n",
    "styles = [\n",
    "        {'selector':'td', 'props':[('padding', '10px'), ('vertical-align', 'top'), ('border-bottom', '1px solid #ccc'), ('background', '#eee')\n",
    "         ]}, \n",
    "        {'selector':'th', 'props':[('padding', '10px'), ('font-weight', 'bold'), ('vertical-align', 'top'), ('color', '#fff'), ('background', '#263747')]}\n",
    "]"
   ]
  },
  {
   "cell_type": "markdown",
   "metadata": {},
   "source": [
    "### 기술 태그 입력"
   ]
  },
  {
   "cell_type": "code",
   "execution_count": 60,
   "metadata": {},
   "outputs": [
    {
     "data": {
      "application/vnd.jupyter.widget-view+json": {
       "model_id": "d21741c3be2f47ecb6fee734d2efe64a",
       "version_major": 2,
       "version_minor": 0
      },
      "text/plain": [
       "VBox(children=(Label(value='기술 스택 (쉼표로 구분)'), HBox(children=(Text(value='', layout=Layout(width='50%'), placeh…"
      ]
     },
     "metadata": {},
     "output_type": "display_data"
    }
   ],
   "source": [
    "desc = widgets.Label(value='기술 스택 (쉼표로 구분)')\n",
    "tags_input = widgets.Text(\n",
    "    value='',\n",
    "    placeholder='예: HTML, CSS, JavaScript',\n",
    "    description='',\n",
    "    disabled=False,\n",
    "    layout=widgets.Layout(width='50%')\n",
    ")\n",
    "search_button = widgets.Button(\n",
    "    description='입력',\n",
    "    layout=widgets.Layout(width='10%'))\n",
    "input_with_button = widgets.HBox([tags_input, search_button])\n",
    "display(widgets.VBox([desc, input_with_button]))\n",
    "\n",
    "tags_input_ed = []\n",
    "\n",
    "def search(b):\n",
    "    global tags_input_ed\n",
    "    tags_input_ed = [x.strip() for x in tags_input.value.split(',')]\n",
    "\n",
    "search_button.on_click(search)"
   ]
  },
  {
   "cell_type": "code",
   "execution_count": 108,
   "metadata": {},
   "outputs": [
    {
     "data": {
      "application/vnd.jupyter.widget-view+json": {
       "model_id": "02c0cab8d9d94d20ae1fafc144a008b9",
       "version_major": 2,
       "version_minor": 0
      },
      "text/plain": [
       "VBox(children=(Label(value='관심 있는 job ID를 가장 관심있는 것부터 순서대로 입력하세요. (총 3개)'), HBox(children=(Text(value='', layo…"
      ]
     },
     "metadata": {},
     "output_type": "display_data"
    }
   ],
   "source": [
    "jobrank = []\n",
    "\n",
    "desc2 = widgets.Label(value='관심 있는 job ID를 가장 관심있는 것부터 순서대로 입력하세요. (총 5개)')\n",
    "jobs_input = widgets.Text(\n",
    "    value='',\n",
    "    placeholder='예: 1ce927f875864094e3906a4a0b5ece68',\n",
    "    description='',\n",
    "    disabled=False,\n",
    "    layout=widgets.Layout(width='50%')\n",
    ")\n",
    "button2 = widgets.Button(\n",
    "    description='입력',\n",
    "    layout=widgets.Layout(width='10%'))\n",
    "hbox = widgets.HBox([jobs_input, button2])\n",
    "desc3 = widgets.Label(value='')\n",
    "output_html = widgets.HTML(\n",
    "    value=''\n",
    ")\n",
    "display(widgets.VBox([desc2, hbox, desc3, output_html]))\n",
    "output_html.value = samplelist.style.set_table_styles(styles).render()\n",
    "    \n",
    "def jobbutton(b):\n",
    "    jobrank.append(jobs_input.value.strip())\n",
    "    jobs_input.value = ''\n",
    "    desc3.value = ', '.join(jobrank)\n",
    "\n",
    "button2.on_click(jobbutton)"
   ]
  },
  {
   "cell_type": "code",
   "execution_count": 109,
   "metadata": {
    "colab": {
     "base_uri": "https://localhost:8080/",
     "height": 1000,
     "referenced_widgets": [
      "ca82806297d54b37b0e5a86d7dabdfb8",
      "33f3f9b3d64a45a79b7e28ac9b54817a",
      "c7d5bebe7bc649f1992537c222341551",
      "f5ef741a278f4cdf8e6d1b5ff63a0f84",
      "aab4b42d8bb743488f9eed157e8bbc30",
      "4c504796d2214a23953e075a788277bb",
      "d5798180edfd4520be549a617957f2dc",
      "979cd1b4db5b42918ed9702333a85ba0",
      "f621178eeb814234b54383368501de81",
      "2205c0dc660548eba264406b3ab70e71",
      "a742ef86e753495cac832738ac8b03e0",
      "9274a45e05ea42219a3bff4e9daed668",
      "8ca3611c4f6942e2b086ce4a24c8b27f",
      "2ea7260ea9ae476997e4cb167fae0af7",
      "fdbf968356434a238d63332c9c0f288e",
      "5904b38cd3ab42a2bd2b7146e88b4bee"
     ]
    },
    "executionInfo": {
     "elapsed": 650,
     "status": "ok",
     "timestamp": 1621369454889,
     "user": {
      "displayName": "­박정재[소프트웨어학부]",
      "photoUrl": "",
      "userId": "17952556889110710980"
     },
     "user_tz": -540
    },
    "id": "NjFp1Botp_9V",
    "outputId": "ec1f0dce-52be-4dd6-e73a-f7a6862d4bf8"
   },
   "outputs": [
    {
     "data": {
      "application/vnd.jupyter.widget-view+json": {
       "model_id": "911573952f60445a90c92d55181687a7",
       "version_major": 2,
       "version_minor": 0
      },
      "text/plain": [
       "VBox(children=(HBox(children=(Label(value='점수 (low is good):'), Label(value=''))), HTML(value='')))"
      ]
     },
     "metadata": {},
     "output_type": "display_data"
    }
   ],
   "source": [
    "# jobrank = ['2291d2ec3b3048d1a6f86c2c4591b7e0', '88ae6372cfdc5df69a976e893f4d554b', '051e4e127b92f5d98d3c79b195f2b291', 'c4015b7f368e6b4871809f49debe0579', 'c60d060b946d6dd6145dcbad5c4ccf6f']\n",
    "vvv = widgets.Label(value='점수 (low is good):')\n",
    "vvvv = widgets.Label(value='')\n",
    "hhh = widgets.HBox([vvv, vvvv])\n",
    "output_html2 = widgets.HTML(\n",
    "    value=\"\"\n",
    ")\n",
    "output_pd = engine.cal_score(tags_input_ed, samplelist, top_k)\n",
    "display(widgets.VBox([hhh, output_html2]))\n",
    "output_html2.value = output_pd.style.set_table_styles(styles).render()\n",
    "\n",
    "v_score = 0\n",
    "for i in range(5):\n",
    "    job_index = output_pd[output_pd['jobID']==jobrank[i]].index[0]\n",
    "    v_score += abs(i - output_pd[output_pd['jobID']==jobrank[i]].index[0])\n",
    "vvvv.value = str(v_score)"
   ]
  },
  {
   "cell_type": "code",
   "execution_count": null,
   "metadata": {},
   "outputs": [],
   "source": []
  }
 ],
 "metadata": {
  "colab": {
   "authorship_tag": "ABX9TyMjf1lOjZnStSNidswulmZc",
   "mount_file_id": "1p_MR7eNkfO1TY-7alyQ07mig-kdiQr0n",
   "name": "tag_fidelity.ipynb",
   "provenance": []
  },
  "kernelspec": {
   "display_name": "Python 3",
   "language": "python",
   "name": "python3"
  },
  "language_info": {
   "codemirror_mode": {
    "name": "ipython",
    "version": 3
   },
   "file_extension": ".py",
   "mimetype": "text/x-python",
   "name": "python",
   "nbconvert_exporter": "python",
   "pygments_lexer": "ipython3",
   "version": "3.9.5"
  },
  "widgets": {
   "application/vnd.jupyter.widget-state+json": {
    "2205c0dc660548eba264406b3ab70e71": {
     "model_module": "@jupyter-widgets/controls",
     "model_name": "ButtonModel",
     "state": {
      "_dom_classes": [],
      "_model_module": "@jupyter-widgets/controls",
      "_model_module_version": "1.5.0",
      "_model_name": "ButtonModel",
      "_view_count": null,
      "_view_module": "@jupyter-widgets/controls",
      "_view_module_version": "1.5.0",
      "_view_name": "ButtonView",
      "button_style": "",
      "description": "검색",
      "disabled": false,
      "icon": "",
      "layout": "IPY_MODEL_5904b38cd3ab42a2bd2b7146e88b4bee",
      "style": "IPY_MODEL_fdbf968356434a238d63332c9c0f288e",
      "tooltip": ""
     }
    },
    "2ea7260ea9ae476997e4cb167fae0af7": {
     "model_module": "@jupyter-widgets/base",
     "model_name": "LayoutModel",
     "state": {
      "_model_module": "@jupyter-widgets/base",
      "_model_module_version": "1.2.0",
      "_model_name": "LayoutModel",
      "_view_count": null,
      "_view_module": "@jupyter-widgets/base",
      "_view_module_version": "1.2.0",
      "_view_name": "LayoutView",
      "align_content": null,
      "align_items": null,
      "align_self": null,
      "border": null,
      "bottom": null,
      "display": null,
      "flex": null,
      "flex_flow": null,
      "grid_area": null,
      "grid_auto_columns": null,
      "grid_auto_flow": null,
      "grid_auto_rows": null,
      "grid_column": null,
      "grid_gap": null,
      "grid_row": null,
      "grid_template_areas": null,
      "grid_template_columns": null,
      "grid_template_rows": null,
      "height": null,
      "justify_content": null,
      "justify_items": null,
      "left": null,
      "margin": null,
      "max_height": null,
      "max_width": null,
      "min_height": null,
      "min_width": null,
      "object_fit": null,
      "object_position": null,
      "order": null,
      "overflow": null,
      "overflow_x": null,
      "overflow_y": null,
      "padding": null,
      "right": null,
      "top": null,
      "visibility": null,
      "width": "50%"
     }
    },
    "33f3f9b3d64a45a79b7e28ac9b54817a": {
     "model_module": "@jupyter-widgets/base",
     "model_name": "LayoutModel",
     "state": {
      "_model_module": "@jupyter-widgets/base",
      "_model_module_version": "1.2.0",
      "_model_name": "LayoutModel",
      "_view_count": null,
      "_view_module": "@jupyter-widgets/base",
      "_view_module_version": "1.2.0",
      "_view_name": "LayoutView",
      "align_content": null,
      "align_items": null,
      "align_self": null,
      "border": null,
      "bottom": null,
      "display": null,
      "flex": null,
      "flex_flow": null,
      "grid_area": null,
      "grid_auto_columns": null,
      "grid_auto_flow": null,
      "grid_auto_rows": null,
      "grid_column": null,
      "grid_gap": null,
      "grid_row": null,
      "grid_template_areas": null,
      "grid_template_columns": null,
      "grid_template_rows": null,
      "height": null,
      "justify_content": null,
      "justify_items": null,
      "left": null,
      "margin": null,
      "max_height": null,
      "max_width": null,
      "min_height": null,
      "min_width": null,
      "object_fit": null,
      "object_position": null,
      "order": null,
      "overflow": null,
      "overflow_x": null,
      "overflow_y": null,
      "padding": null,
      "right": null,
      "top": null,
      "visibility": null,
      "width": null
     }
    },
    "4c504796d2214a23953e075a788277bb": {
     "model_module": "@jupyter-widgets/controls",
     "model_name": "DescriptionStyleModel",
     "state": {
      "_model_module": "@jupyter-widgets/controls",
      "_model_module_version": "1.5.0",
      "_model_name": "DescriptionStyleModel",
      "_view_count": null,
      "_view_module": "@jupyter-widgets/base",
      "_view_module_version": "1.2.0",
      "_view_name": "StyleView",
      "description_width": ""
     }
    },
    "5904b38cd3ab42a2bd2b7146e88b4bee": {
     "model_module": "@jupyter-widgets/base",
     "model_name": "LayoutModel",
     "state": {
      "_model_module": "@jupyter-widgets/base",
      "_model_module_version": "1.2.0",
      "_model_name": "LayoutModel",
      "_view_count": null,
      "_view_module": "@jupyter-widgets/base",
      "_view_module_version": "1.2.0",
      "_view_name": "LayoutView",
      "align_content": null,
      "align_items": null,
      "align_self": null,
      "border": null,
      "bottom": null,
      "display": null,
      "flex": null,
      "flex_flow": null,
      "grid_area": null,
      "grid_auto_columns": null,
      "grid_auto_flow": null,
      "grid_auto_rows": null,
      "grid_column": null,
      "grid_gap": null,
      "grid_row": null,
      "grid_template_areas": null,
      "grid_template_columns": null,
      "grid_template_rows": null,
      "height": null,
      "justify_content": null,
      "justify_items": null,
      "left": null,
      "margin": null,
      "max_height": null,
      "max_width": null,
      "min_height": null,
      "min_width": null,
      "object_fit": null,
      "object_position": null,
      "order": null,
      "overflow": null,
      "overflow_x": null,
      "overflow_y": null,
      "padding": null,
      "right": null,
      "top": null,
      "visibility": null,
      "width": "10%"
     }
    },
    "8ca3611c4f6942e2b086ce4a24c8b27f": {
     "model_module": "@jupyter-widgets/controls",
     "model_name": "DescriptionStyleModel",
     "state": {
      "_model_module": "@jupyter-widgets/controls",
      "_model_module_version": "1.5.0",
      "_model_name": "DescriptionStyleModel",
      "_view_count": null,
      "_view_module": "@jupyter-widgets/base",
      "_view_module_version": "1.2.0",
      "_view_name": "StyleView",
      "description_width": ""
     }
    },
    "9274a45e05ea42219a3bff4e9daed668": {
     "model_module": "@jupyter-widgets/base",
     "model_name": "LayoutModel",
     "state": {
      "_model_module": "@jupyter-widgets/base",
      "_model_module_version": "1.2.0",
      "_model_name": "LayoutModel",
      "_view_count": null,
      "_view_module": "@jupyter-widgets/base",
      "_view_module_version": "1.2.0",
      "_view_name": "LayoutView",
      "align_content": null,
      "align_items": null,
      "align_self": null,
      "border": null,
      "bottom": null,
      "display": null,
      "flex": null,
      "flex_flow": null,
      "grid_area": null,
      "grid_auto_columns": null,
      "grid_auto_flow": null,
      "grid_auto_rows": null,
      "grid_column": null,
      "grid_gap": null,
      "grid_row": null,
      "grid_template_areas": null,
      "grid_template_columns": null,
      "grid_template_rows": null,
      "height": null,
      "justify_content": null,
      "justify_items": null,
      "left": null,
      "margin": null,
      "max_height": null,
      "max_width": null,
      "min_height": null,
      "min_width": null,
      "object_fit": null,
      "object_position": null,
      "order": null,
      "overflow": null,
      "overflow_x": null,
      "overflow_y": null,
      "padding": null,
      "right": null,
      "top": null,
      "visibility": null,
      "width": null
     }
    },
    "979cd1b4db5b42918ed9702333a85ba0": {
     "model_module": "@jupyter-widgets/base",
     "model_name": "LayoutModel",
     "state": {
      "_model_module": "@jupyter-widgets/base",
      "_model_module_version": "1.2.0",
      "_model_name": "LayoutModel",
      "_view_count": null,
      "_view_module": "@jupyter-widgets/base",
      "_view_module_version": "1.2.0",
      "_view_name": "LayoutView",
      "align_content": null,
      "align_items": null,
      "align_self": null,
      "border": null,
      "bottom": null,
      "display": null,
      "flex": null,
      "flex_flow": null,
      "grid_area": null,
      "grid_auto_columns": null,
      "grid_auto_flow": null,
      "grid_auto_rows": null,
      "grid_column": null,
      "grid_gap": null,
      "grid_row": null,
      "grid_template_areas": null,
      "grid_template_columns": null,
      "grid_template_rows": null,
      "height": null,
      "justify_content": null,
      "justify_items": null,
      "left": null,
      "margin": null,
      "max_height": null,
      "max_width": null,
      "min_height": null,
      "min_width": null,
      "object_fit": null,
      "object_position": null,
      "order": null,
      "overflow": null,
      "overflow_x": null,
      "overflow_y": null,
      "padding": null,
      "right": null,
      "top": null,
      "visibility": null,
      "width": null
     }
    },
    "a742ef86e753495cac832738ac8b03e0": {
     "model_module": "@jupyter-widgets/controls",
     "model_name": "DescriptionStyleModel",
     "state": {
      "_model_module": "@jupyter-widgets/controls",
      "_model_module_version": "1.5.0",
      "_model_name": "DescriptionStyleModel",
      "_view_count": null,
      "_view_module": "@jupyter-widgets/base",
      "_view_module_version": "1.2.0",
      "_view_name": "StyleView",
      "description_width": ""
     }
    },
    "aab4b42d8bb743488f9eed157e8bbc30": {
     "model_module": "@jupyter-widgets/controls",
     "model_name": "HTMLModel",
     "state": {
      "_dom_classes": [],
      "_model_module": "@jupyter-widgets/controls",
      "_model_module_version": "1.5.0",
      "_model_name": "HTMLModel",
      "_view_count": null,
      "_view_module": "@jupyter-widgets/controls",
      "_view_module_version": "1.5.0",
      "_view_name": "HTMLView",
      "description": "",
      "description_tooltip": null,
      "layout": "IPY_MODEL_9274a45e05ea42219a3bff4e9daed668",
      "placeholder": "​",
      "style": "IPY_MODEL_a742ef86e753495cac832738ac8b03e0",
      "value": "<style  type=\"text/css\" >\n    #T_0b0f8a26_b817_11eb_ab02_0242ac1c0002 td {\n          padding: 10px;\n          vertical-align: top;\n          border-bottom: 1px solid #ccc;\n          background: #eee;\n    }    #T_0b0f8a26_b817_11eb_ab02_0242ac1c0002 th {\n          padding: 10px;\n          font-weight: bold;\n          vertical-align: top;\n          color: #fff;\n          background: #ce4869;\n    }</style><table id=\"T_0b0f8a26_b817_11eb_ab02_0242ac1c0002\" ><thead>    <tr>        <th class=\"blank level0\" ></th>        <th class=\"col_heading level0 col0\" >jobID</th>        <th class=\"col_heading level0 col1\" >tags</th>        <th class=\"col_heading level0 col2\" >score</th>    </tr></thead><tbody>\n                <tr>\n                        <th id=\"T_0b0f8a26_b817_11eb_ab02_0242ac1c0002level0_row0\" class=\"row_heading level0 row0\" >0</th>\n                        <td id=\"T_0b0f8a26_b817_11eb_ab02_0242ac1c0002row0_col0\" class=\"data row0 col0\" >995665640dc319973d3173a74a03860c</td>\n                        <td id=\"T_0b0f8a26_b817_11eb_ab02_0242ac1c0002row0_col1\" class=\"data row0 col1\" >['JavaScript', 'CSS', 'HTML']</td>\n                        <td id=\"T_0b0f8a26_b817_11eb_ab02_0242ac1c0002row0_col2\" class=\"data row0 col2\" >0.800000</td>\n            </tr>\n            <tr>\n                        <th id=\"T_0b0f8a26_b817_11eb_ab02_0242ac1c0002level0_row1\" class=\"row_heading level0 row1\" >1</th>\n                        <td id=\"T_0b0f8a26_b817_11eb_ab02_0242ac1c0002row1_col0\" class=\"data row1 col0\" >286674e3082feb7e5afb92777e48821f</td>\n                        <td id=\"T_0b0f8a26_b817_11eb_ab02_0242ac1c0002row1_col1\" class=\"data row1 col1\" >['HTML', 'JavaScript', 'CSS']</td>\n                        <td id=\"T_0b0f8a26_b817_11eb_ab02_0242ac1c0002row1_col2\" class=\"data row1 col2\" >0.800000</td>\n            </tr>\n            <tr>\n                        <th id=\"T_0b0f8a26_b817_11eb_ab02_0242ac1c0002level0_row2\" class=\"row_heading level0 row2\" >2</th>\n                        <td id=\"T_0b0f8a26_b817_11eb_ab02_0242ac1c0002row2_col0\" class=\"data row2 col0\" >c042f4db68f23406c6cecf84a7ebb0fe</td>\n                        <td id=\"T_0b0f8a26_b817_11eb_ab02_0242ac1c0002row2_col1\" class=\"data row2 col1\" >['HTML', 'CSS', 'JavaScript']</td>\n                        <td id=\"T_0b0f8a26_b817_11eb_ab02_0242ac1c0002row2_col2\" class=\"data row2 col2\" >0.800000</td>\n            </tr>\n            <tr>\n                        <th id=\"T_0b0f8a26_b817_11eb_ab02_0242ac1c0002level0_row3\" class=\"row_heading level0 row3\" >3</th>\n                        <td id=\"T_0b0f8a26_b817_11eb_ab02_0242ac1c0002row3_col0\" class=\"data row3 col0\" >2b6d65b9a9445c4271ab9076ead5605a</td>\n                        <td id=\"T_0b0f8a26_b817_11eb_ab02_0242ac1c0002row3_col1\" class=\"data row3 col1\" >['JavaScript', 'CSS', 'HTML']</td>\n                        <td id=\"T_0b0f8a26_b817_11eb_ab02_0242ac1c0002row3_col2\" class=\"data row3 col2\" >0.800000</td>\n            </tr>\n            <tr>\n                        <th id=\"T_0b0f8a26_b817_11eb_ab02_0242ac1c0002level0_row4\" class=\"row_heading level0 row4\" >4</th>\n                        <td id=\"T_0b0f8a26_b817_11eb_ab02_0242ac1c0002row4_col0\" class=\"data row4 col0\" >2bcab9d935d219641434683dd9d18a03</td>\n                        <td id=\"T_0b0f8a26_b817_11eb_ab02_0242ac1c0002row4_col1\" class=\"data row4 col1\" >['CSS', 'HTML', 'ES6']</td>\n                        <td id=\"T_0b0f8a26_b817_11eb_ab02_0242ac1c0002row4_col2\" class=\"data row4 col2\" >0.800000</td>\n            </tr>\n            <tr>\n                        <th id=\"T_0b0f8a26_b817_11eb_ab02_0242ac1c0002level0_row5\" class=\"row_heading level0 row5\" >5</th>\n                        <td id=\"T_0b0f8a26_b817_11eb_ab02_0242ac1c0002row5_col0\" class=\"data row5 col0\" >dc912a253d1e9ba40e2c597ed2376640</td>\n                        <td id=\"T_0b0f8a26_b817_11eb_ab02_0242ac1c0002row5_col1\" class=\"data row5 col1\" >['CSS', 'JavaScript', 'HTML']</td>\n                        <td id=\"T_0b0f8a26_b817_11eb_ab02_0242ac1c0002row5_col2\" class=\"data row5 col2\" >0.800000</td>\n            </tr>\n            <tr>\n                        <th id=\"T_0b0f8a26_b817_11eb_ab02_0242ac1c0002level0_row6\" class=\"row_heading level0 row6\" >6</th>\n                        <td id=\"T_0b0f8a26_b817_11eb_ab02_0242ac1c0002row6_col0\" class=\"data row6 col0\" >63538fe6ef330c13a05a3ed7e599d5f7</td>\n                        <td id=\"T_0b0f8a26_b817_11eb_ab02_0242ac1c0002row6_col1\" class=\"data row6 col1\" >['CSS', 'JavaScript', 'HTML']</td>\n                        <td id=\"T_0b0f8a26_b817_11eb_ab02_0242ac1c0002row6_col2\" class=\"data row6 col2\" >0.800000</td>\n            </tr>\n            <tr>\n                        <th id=\"T_0b0f8a26_b817_11eb_ab02_0242ac1c0002level0_row7\" class=\"row_heading level0 row7\" >7</th>\n                        <td id=\"T_0b0f8a26_b817_11eb_ab02_0242ac1c0002row7_col0\" class=\"data row7 col0\" >84d2004bf28a2095230e8e14993d398d</td>\n                        <td id=\"T_0b0f8a26_b817_11eb_ab02_0242ac1c0002row7_col1\" class=\"data row7 col1\" >['JavaScript', 'CSS', 'HTML']</td>\n                        <td id=\"T_0b0f8a26_b817_11eb_ab02_0242ac1c0002row7_col2\" class=\"data row7 col2\" >0.800000</td>\n            </tr>\n            <tr>\n                        <th id=\"T_0b0f8a26_b817_11eb_ab02_0242ac1c0002level0_row8\" class=\"row_heading level0 row8\" >8</th>\n                        <td id=\"T_0b0f8a26_b817_11eb_ab02_0242ac1c0002row8_col0\" class=\"data row8 col0\" >fb89705ae6d743bf1e848c206e16a1d7</td>\n                        <td id=\"T_0b0f8a26_b817_11eb_ab02_0242ac1c0002row8_col1\" class=\"data row8 col1\" >['JavaScript', 'HTML', 'CSS']</td>\n                        <td id=\"T_0b0f8a26_b817_11eb_ab02_0242ac1c0002row8_col2\" class=\"data row8 col2\" >0.800000</td>\n            </tr>\n            <tr>\n                        <th id=\"T_0b0f8a26_b817_11eb_ab02_0242ac1c0002level0_row9\" class=\"row_heading level0 row9\" >9</th>\n                        <td id=\"T_0b0f8a26_b817_11eb_ab02_0242ac1c0002row9_col0\" class=\"data row9 col0\" >5a4b25aaed25c2ee1b74de72dc03c14e</td>\n                        <td id=\"T_0b0f8a26_b817_11eb_ab02_0242ac1c0002row9_col1\" class=\"data row9 col1\" >['CSS', 'HTML', 'jQuery', 'JavaScript']</td>\n                        <td id=\"T_0b0f8a26_b817_11eb_ab02_0242ac1c0002row9_col2\" class=\"data row9 col2\" >0.775000</td>\n            </tr>\n            <tr>\n                        <th id=\"T_0b0f8a26_b817_11eb_ab02_0242ac1c0002level0_row10\" class=\"row_heading level0 row10\" >10</th>\n                        <td id=\"T_0b0f8a26_b817_11eb_ab02_0242ac1c0002row10_col0\" class=\"data row10 col0\" >7b13b2203029ed80337f27127a9f1d28</td>\n                        <td id=\"T_0b0f8a26_b817_11eb_ab02_0242ac1c0002row10_col1\" class=\"data row10 col1\" >['CSS', 'HTML', 'JavaScript', 'AngularJS']</td>\n                        <td id=\"T_0b0f8a26_b817_11eb_ab02_0242ac1c0002row10_col2\" class=\"data row10 col2\" >0.775000</td>\n            </tr>\n            <tr>\n                        <th id=\"T_0b0f8a26_b817_11eb_ab02_0242ac1c0002level0_row11\" class=\"row_heading level0 row11\" >11</th>\n                        <td id=\"T_0b0f8a26_b817_11eb_ab02_0242ac1c0002row11_col0\" class=\"data row11 col0\" >32b30a250abd6331e03a2a1f16466346</td>\n                        <td id=\"T_0b0f8a26_b817_11eb_ab02_0242ac1c0002row11_col1\" class=\"data row11 col1\" >['JavaScript', 'Angular', 'jQuery', 'HTML', 'CSS']</td>\n                        <td id=\"T_0b0f8a26_b817_11eb_ab02_0242ac1c0002row11_col2\" class=\"data row11 col2\" >0.760000</td>\n            </tr>\n            <tr>\n                        <th id=\"T_0b0f8a26_b817_11eb_ab02_0242ac1c0002level0_row12\" class=\"row_heading level0 row12\" >12</th>\n                        <td id=\"T_0b0f8a26_b817_11eb_ab02_0242ac1c0002row12_col0\" class=\"data row12 col0\" >46072631582fc240dd2674a7d063b040</td>\n                        <td id=\"T_0b0f8a26_b817_11eb_ab02_0242ac1c0002row12_col1\" class=\"data row12 col1\" >['JavaScript', 'CSS', 'Webpack', 'HTML', 'ES6']</td>\n                        <td id=\"T_0b0f8a26_b817_11eb_ab02_0242ac1c0002row12_col2\" class=\"data row12 col2\" >0.760000</td>\n            </tr>\n            <tr>\n                        <th id=\"T_0b0f8a26_b817_11eb_ab02_0242ac1c0002level0_row13\" class=\"row_heading level0 row13\" >13</th>\n                        <td id=\"T_0b0f8a26_b817_11eb_ab02_0242ac1c0002row13_col0\" class=\"data row13 col0\" >bbf94b34eb32268ada57a3be5062fe7d</td>\n                        <td id=\"T_0b0f8a26_b817_11eb_ab02_0242ac1c0002row13_col1\" class=\"data row13 col1\" >['CSS', 'JavaScript', 'ES6', 'HTML', 'AngularJS']</td>\n                        <td id=\"T_0b0f8a26_b817_11eb_ab02_0242ac1c0002row13_col2\" class=\"data row13 col2\" >0.760000</td>\n            </tr>\n            <tr>\n                        <th id=\"T_0b0f8a26_b817_11eb_ab02_0242ac1c0002level0_row14\" class=\"row_heading level0 row14\" >14</th>\n                        <td id=\"T_0b0f8a26_b817_11eb_ab02_0242ac1c0002row14_col0\" class=\"data row14 col0\" >ebd9629fc3ae5e9f6611e2ee05a31cef</td>\n                        <td id=\"T_0b0f8a26_b817_11eb_ab02_0242ac1c0002row14_col1\" class=\"data row14 col1\" >['JavaScript', 'HTML']</td>\n                        <td id=\"T_0b0f8a26_b817_11eb_ab02_0242ac1c0002row14_col2\" class=\"data row14 col2\" >0.700000</td>\n            </tr>\n            <tr>\n                        <th id=\"T_0b0f8a26_b817_11eb_ab02_0242ac1c0002level0_row15\" class=\"row_heading level0 row15\" >15</th>\n                        <td id=\"T_0b0f8a26_b817_11eb_ab02_0242ac1c0002row15_col0\" class=\"data row15 col0\" >b2f627fff19fda463cb386442eac2b3d</td>\n                        <td id=\"T_0b0f8a26_b817_11eb_ab02_0242ac1c0002row15_col1\" class=\"data row15 col1\" >['Angular', 'AngularJS']</td>\n                        <td id=\"T_0b0f8a26_b817_11eb_ab02_0242ac1c0002row15_col2\" class=\"data row15 col2\" >0.700000</td>\n            </tr>\n            <tr>\n                        <th id=\"T_0b0f8a26_b817_11eb_ab02_0242ac1c0002level0_row16\" class=\"row_heading level0 row16\" >16</th>\n                        <td id=\"T_0b0f8a26_b817_11eb_ab02_0242ac1c0002row16_col0\" class=\"data row16 col0\" >f74909ace68e51891440e4da0b65a70c</td>\n                        <td id=\"T_0b0f8a26_b817_11eb_ab02_0242ac1c0002row16_col1\" class=\"data row16 col1\" >['JavaScript']</td>\n                        <td id=\"T_0b0f8a26_b817_11eb_ab02_0242ac1c0002row16_col2\" class=\"data row16 col2\" >0.700000</td>\n            </tr>\n            <tr>\n                        <th id=\"T_0b0f8a26_b817_11eb_ab02_0242ac1c0002level0_row17\" class=\"row_heading level0 row17\" >17</th>\n                        <td id=\"T_0b0f8a26_b817_11eb_ab02_0242ac1c0002row17_col0\" class=\"data row17 col0\" >c86a7ee3d8ef0b551ed58e354a836f2b</td>\n                        <td id=\"T_0b0f8a26_b817_11eb_ab02_0242ac1c0002row17_col1\" class=\"data row17 col1\" >['AngularJS', 'HTML', 'jQuery', 'JavaScript']</td>\n                        <td id=\"T_0b0f8a26_b817_11eb_ab02_0242ac1c0002row17_col2\" class=\"data row17 col2\" >0.700000</td>\n            </tr>\n            <tr>\n                        <th id=\"T_0b0f8a26_b817_11eb_ab02_0242ac1c0002level0_row18\" class=\"row_heading level0 row18\" >18</th>\n                        <td id=\"T_0b0f8a26_b817_11eb_ab02_0242ac1c0002row18_col0\" class=\"data row18 col0\" >41f1f19176d383480afa65d325c06ed0</td>\n                        <td id=\"T_0b0f8a26_b817_11eb_ab02_0242ac1c0002row18_col1\" class=\"data row18 col1\" >['JavaScript']</td>\n                        <td id=\"T_0b0f8a26_b817_11eb_ab02_0242ac1c0002row18_col2\" class=\"data row18 col2\" >0.700000</td>\n            </tr>\n            <tr>\n                        <th id=\"T_0b0f8a26_b817_11eb_ab02_0242ac1c0002level0_row19\" class=\"row_heading level0 row19\" >19</th>\n                        <td id=\"T_0b0f8a26_b817_11eb_ab02_0242ac1c0002row19_col0\" class=\"data row19 col0\" >8c6744c9d42ec2cb9e8885b54ff744d0</td>\n                        <td id=\"T_0b0f8a26_b817_11eb_ab02_0242ac1c0002row19_col1\" class=\"data row19 col1\" >['AngularJS', 'JavaScript', 'jQuery']</td>\n                        <td id=\"T_0b0f8a26_b817_11eb_ab02_0242ac1c0002row19_col2\" class=\"data row19 col2\" >0.700000</td>\n            </tr>\n            <tr>\n                        <th id=\"T_0b0f8a26_b817_11eb_ab02_0242ac1c0002level0_row20\" class=\"row_heading level0 row20\" >20</th>\n                        <td id=\"T_0b0f8a26_b817_11eb_ab02_0242ac1c0002row20_col0\" class=\"data row20 col0\" >0ff39bbbf981ac0151d340c9aa40e63e</td>\n                        <td id=\"T_0b0f8a26_b817_11eb_ab02_0242ac1c0002row20_col1\" class=\"data row20 col1\" >['HTML', 'jQuery', 'Bootstrap', 'Angular', 'CSS', 'JavaScript']</td>\n                        <td id=\"T_0b0f8a26_b817_11eb_ab02_0242ac1c0002row20_col2\" class=\"data row20 col2\" >0.633333</td>\n            </tr>\n            <tr>\n                        <th id=\"T_0b0f8a26_b817_11eb_ab02_0242ac1c0002level0_row21\" class=\"row_heading level0 row21\" >21</th>\n                        <td id=\"T_0b0f8a26_b817_11eb_ab02_0242ac1c0002row21_col0\" class=\"data row21 col0\" >8efb100a295c0c690931222ff4467bb8</td>\n                        <td id=\"T_0b0f8a26_b817_11eb_ab02_0242ac1c0002row21_col1\" class=\"data row21 col1\" >['ES6', 'HTML', 'ReactJS', 'CSS', 'JavaScript']</td>\n                        <td id=\"T_0b0f8a26_b817_11eb_ab02_0242ac1c0002row21_col2\" class=\"data row21 col2\" >0.620000</td>\n            </tr>\n            <tr>\n                        <th id=\"T_0b0f8a26_b817_11eb_ab02_0242ac1c0002level0_row22\" class=\"row_heading level0 row22\" >22</th>\n                        <td id=\"T_0b0f8a26_b817_11eb_ab02_0242ac1c0002row22_col0\" class=\"data row22 col0\" >a8abb4bb284b5b27aa7cb790dc20f80b</td>\n                        <td id=\"T_0b0f8a26_b817_11eb_ab02_0242ac1c0002row22_col1\" class=\"data row22 col1\" >['jQuery', 'Ajax', 'JavaScript', 'HTML', 'CSS']</td>\n                        <td id=\"T_0b0f8a26_b817_11eb_ab02_0242ac1c0002row22_col2\" class=\"data row22 col2\" >0.620000</td>\n            </tr>\n            <tr>\n                        <th id=\"T_0b0f8a26_b817_11eb_ab02_0242ac1c0002level0_row23\" class=\"row_heading level0 row23\" >23</th>\n                        <td id=\"T_0b0f8a26_b817_11eb_ab02_0242ac1c0002row23_col0\" class=\"data row23 col0\" >c8ba76c279269b1c6bc8a07e38e78fa4</td>\n                        <td id=\"T_0b0f8a26_b817_11eb_ab02_0242ac1c0002row23_col1\" class=\"data row23 col1\" >['JavaScript', 'CSS', 'ReactJS', 'HTML', 'jQuery']</td>\n                        <td id=\"T_0b0f8a26_b817_11eb_ab02_0242ac1c0002row23_col2\" class=\"data row23 col2\" >0.620000</td>\n            </tr>\n            <tr>\n                        <th id=\"T_0b0f8a26_b817_11eb_ab02_0242ac1c0002level0_row24\" class=\"row_heading level0 row24\" >24</th>\n                        <td id=\"T_0b0f8a26_b817_11eb_ab02_0242ac1c0002row24_col0\" class=\"data row24 col0\" >5e388103a391daabe3de1d76a6739ccd</td>\n                        <td id=\"T_0b0f8a26_b817_11eb_ab02_0242ac1c0002row24_col1\" class=\"data row24 col1\" >['HTML', 'JavaScript', 'CSS', 'jQuery', 'ASP.NET']</td>\n                        <td id=\"T_0b0f8a26_b817_11eb_ab02_0242ac1c0002row24_col2\" class=\"data row24 col2\" >0.620000</td>\n            </tr>\n            <tr>\n                        <th id=\"T_0b0f8a26_b817_11eb_ab02_0242ac1c0002level0_row25\" class=\"row_heading level0 row25\" >25</th>\n                        <td id=\"T_0b0f8a26_b817_11eb_ab02_0242ac1c0002row25_col0\" class=\"data row25 col0\" >dc4c44f624d600aa568390f1f1104aa0</td>\n                        <td id=\"T_0b0f8a26_b817_11eb_ab02_0242ac1c0002row25_col1\" class=\"data row25 col1\" >['HTML', 'ReactJS', 'JavaScript', 'CSS', 'D3.js']</td>\n                        <td id=\"T_0b0f8a26_b817_11eb_ab02_0242ac1c0002row25_col2\" class=\"data row25 col2\" >0.620000</td>\n            </tr>\n            <tr>\n                        <th id=\"T_0b0f8a26_b817_11eb_ab02_0242ac1c0002level0_row26\" class=\"row_heading level0 row26\" >26</th>\n                        <td id=\"T_0b0f8a26_b817_11eb_ab02_0242ac1c0002row26_col0\" class=\"data row26 col0\" >d240e3d38a8882ecad8633c8f9c78c9b</td>\n                        <td id=\"T_0b0f8a26_b817_11eb_ab02_0242ac1c0002row26_col1\" class=\"data row26 col1\" >['HTML', 'JavaScript', 'Ruby on Rails', 'CSS']</td>\n                        <td id=\"T_0b0f8a26_b817_11eb_ab02_0242ac1c0002row26_col2\" class=\"data row26 col2\" >0.600000</td>\n            </tr>\n            <tr>\n                        <th id=\"T_0b0f8a26_b817_11eb_ab02_0242ac1c0002level0_row27\" class=\"row_heading level0 row27\" >27</th>\n                        <td id=\"T_0b0f8a26_b817_11eb_ab02_0242ac1c0002row27_col0\" class=\"data row27 col0\" >a284df1155ec3e67286080500df36a9a</td>\n                        <td id=\"T_0b0f8a26_b817_11eb_ab02_0242ac1c0002row27_col1\" class=\"data row27 col1\" >['HTML', 'Ruby on Rails', 'CSS', 'JavaScript']</td>\n                        <td id=\"T_0b0f8a26_b817_11eb_ab02_0242ac1c0002row27_col2\" class=\"data row27 col2\" >0.600000</td>\n            </tr>\n            <tr>\n                        <th id=\"T_0b0f8a26_b817_11eb_ab02_0242ac1c0002level0_row28\" class=\"row_heading level0 row28\" >28</th>\n                        <td id=\"T_0b0f8a26_b817_11eb_ab02_0242ac1c0002row28_col0\" class=\"data row28 col0\" >df877f3865752637daa540ea9cbc474f</td>\n                        <td id=\"T_0b0f8a26_b817_11eb_ab02_0242ac1c0002row28_col1\" class=\"data row28 col1\" >['CSS', 'JavaScript', 'Python', 'HTML']</td>\n                        <td id=\"T_0b0f8a26_b817_11eb_ab02_0242ac1c0002row28_col2\" class=\"data row28 col2\" >0.600000</td>\n            </tr>\n            <tr>\n                        <th id=\"T_0b0f8a26_b817_11eb_ab02_0242ac1c0002level0_row29\" class=\"row_heading level0 row29\" >29</th>\n                        <td id=\"T_0b0f8a26_b817_11eb_ab02_0242ac1c0002row29_col0\" class=\"data row29 col0\" >3871bd64012152bfb53fdf04b401193f</td>\n                        <td id=\"T_0b0f8a26_b817_11eb_ab02_0242ac1c0002row29_col1\" class=\"data row29 col1\" >['CSS', 'JavaScript', 'React Native', 'HTML']</td>\n                        <td id=\"T_0b0f8a26_b817_11eb_ab02_0242ac1c0002row29_col2\" class=\"data row29 col2\" >0.600000</td>\n            </tr>\n    </tbody></table>"
     }
    },
    "c7d5bebe7bc649f1992537c222341551": {
     "model_module": "@jupyter-widgets/controls",
     "model_name": "LabelModel",
     "state": {
      "_dom_classes": [],
      "_model_module": "@jupyter-widgets/controls",
      "_model_module_version": "1.5.0",
      "_model_name": "LabelModel",
      "_view_count": null,
      "_view_module": "@jupyter-widgets/controls",
      "_view_module_version": "1.5.0",
      "_view_name": "LabelView",
      "description": "",
      "description_tooltip": null,
      "layout": "IPY_MODEL_d5798180edfd4520be549a617957f2dc",
      "placeholder": "​",
      "style": "IPY_MODEL_4c504796d2214a23953e075a788277bb",
      "value": "기술 스택 (쉼표로 구분)"
     }
    },
    "ca82806297d54b37b0e5a86d7dabdfb8": {
     "model_module": "@jupyter-widgets/controls",
     "model_name": "VBoxModel",
     "state": {
      "_dom_classes": [],
      "_model_module": "@jupyter-widgets/controls",
      "_model_module_version": "1.5.0",
      "_model_name": "VBoxModel",
      "_view_count": null,
      "_view_module": "@jupyter-widgets/controls",
      "_view_module_version": "1.5.0",
      "_view_name": "VBoxView",
      "box_style": "",
      "children": [
       "IPY_MODEL_c7d5bebe7bc649f1992537c222341551",
       "IPY_MODEL_f5ef741a278f4cdf8e6d1b5ff63a0f84",
       "IPY_MODEL_aab4b42d8bb743488f9eed157e8bbc30"
      ],
      "layout": "IPY_MODEL_33f3f9b3d64a45a79b7e28ac9b54817a"
     }
    },
    "d5798180edfd4520be549a617957f2dc": {
     "model_module": "@jupyter-widgets/base",
     "model_name": "LayoutModel",
     "state": {
      "_model_module": "@jupyter-widgets/base",
      "_model_module_version": "1.2.0",
      "_model_name": "LayoutModel",
      "_view_count": null,
      "_view_module": "@jupyter-widgets/base",
      "_view_module_version": "1.2.0",
      "_view_name": "LayoutView",
      "align_content": null,
      "align_items": null,
      "align_self": null,
      "border": null,
      "bottom": null,
      "display": null,
      "flex": null,
      "flex_flow": null,
      "grid_area": null,
      "grid_auto_columns": null,
      "grid_auto_flow": null,
      "grid_auto_rows": null,
      "grid_column": null,
      "grid_gap": null,
      "grid_row": null,
      "grid_template_areas": null,
      "grid_template_columns": null,
      "grid_template_rows": null,
      "height": null,
      "justify_content": null,
      "justify_items": null,
      "left": null,
      "margin": null,
      "max_height": null,
      "max_width": null,
      "min_height": null,
      "min_width": null,
      "object_fit": null,
      "object_position": null,
      "order": null,
      "overflow": null,
      "overflow_x": null,
      "overflow_y": null,
      "padding": null,
      "right": null,
      "top": null,
      "visibility": null,
      "width": null
     }
    },
    "f5ef741a278f4cdf8e6d1b5ff63a0f84": {
     "model_module": "@jupyter-widgets/controls",
     "model_name": "HBoxModel",
     "state": {
      "_dom_classes": [],
      "_model_module": "@jupyter-widgets/controls",
      "_model_module_version": "1.5.0",
      "_model_name": "HBoxModel",
      "_view_count": null,
      "_view_module": "@jupyter-widgets/controls",
      "_view_module_version": "1.5.0",
      "_view_name": "HBoxView",
      "box_style": "",
      "children": [
       "IPY_MODEL_f621178eeb814234b54383368501de81",
       "IPY_MODEL_2205c0dc660548eba264406b3ab70e71"
      ],
      "layout": "IPY_MODEL_979cd1b4db5b42918ed9702333a85ba0"
     }
    },
    "f621178eeb814234b54383368501de81": {
     "model_module": "@jupyter-widgets/controls",
     "model_name": "TextModel",
     "state": {
      "_dom_classes": [],
      "_model_module": "@jupyter-widgets/controls",
      "_model_module_version": "1.5.0",
      "_model_name": "TextModel",
      "_view_count": null,
      "_view_module": "@jupyter-widgets/controls",
      "_view_module_version": "1.5.0",
      "_view_name": "TextView",
      "continuous_update": true,
      "description": "",
      "description_tooltip": null,
      "disabled": false,
      "layout": "IPY_MODEL_2ea7260ea9ae476997e4cb167fae0af7",
      "placeholder": "예: HTML, CSS, JavaScript",
      "style": "IPY_MODEL_8ca3611c4f6942e2b086ce4a24c8b27f",
      "value": "CSS"
     }
    },
    "fdbf968356434a238d63332c9c0f288e": {
     "model_module": "@jupyter-widgets/controls",
     "model_name": "ButtonStyleModel",
     "state": {
      "_model_module": "@jupyter-widgets/controls",
      "_model_module_version": "1.5.0",
      "_model_name": "ButtonStyleModel",
      "_view_count": null,
      "_view_module": "@jupyter-widgets/base",
      "_view_module_version": "1.2.0",
      "_view_name": "StyleView",
      "button_color": null,
      "font_weight": ""
     }
    }
   }
  }
 },
 "nbformat": 4,
 "nbformat_minor": 1
}